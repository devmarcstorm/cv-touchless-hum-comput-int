{
 "cells": [
  {
   "cell_type": "markdown",
   "id": "6363c8c7",
   "metadata": {
    "slideshow": {
     "slide_type": "slide"
    }
   },
   "source": [
    "# Method 2: ML (live) finger counting\n",
    "\n",
    "The goal of the project was to implement touchless human-computer interaction via hand gestures. Users should be able to control the actions of a computer by the number of fingers held up.\n",
    "\n",
    "Possible applications include public interactive information boards (avoiding physical contacts to reduce the risk of infections) or interactions with augmented reality glasses.\n",
    "\n",
    "**Notice. The implementation of this project is purely experimental and not intended for real-world use.**\n",
    "\n",
    "Associated Resources:\n",
    " - Old: [Kaggle Dataset: fingers](https://www.kaggle.com/koryakinp/fingers)\n",
    " - New: [Kaggle Dataset: fingers-binary-thresh](https://www.kaggle.com/devmarcstorm/fingers-binary-thresh)\n",
    "\n",
    "![White hand on black background](docs/output/live.png)"
   ]
  },
  {
   "cell_type": "code",
   "execution_count": 2,
   "id": "746008c8",
   "metadata": {
    "slideshow": {
     "slide_type": "slide"
    }
   },
   "outputs": [],
   "source": [
    "import glob\n",
    "import os\n",
    "\n",
    "import cv2  # pip install opencv-python\n",
    "import matplotlib.pyplot as plt  # pip install matplotlib\n",
    "import numpy as np\n",
    "import tensorflow as tf  # pip install tensorflow\n",
    "from tensorflow.keras import layers, models, optimizers\n",
    "\n",
    "import webbrowser"
   ]
  },
  {
   "cell_type": "markdown",
   "id": "fcd0e452",
   "metadata": {
    "slideshow": {
     "slide_type": "slide"
    }
   },
   "source": [
    "## Train, evaluate and save model\n",
    "\n",
    "The model was implemented with [keras](https://keras.io/) and [tensorflow](https://www.tensorflow.org/)."
   ]
  },
  {
   "cell_type": "code",
   "execution_count": 3,
   "id": "11c90db4",
   "metadata": {
    "slideshow": {
     "slide_type": "subslide"
    }
   },
   "outputs": [
    {
     "name": "stdout",
     "output_type": "stream",
     "text": [
      "Model: \"sequential\"\n",
      "_________________________________________________________________\n",
      "Layer (type)                 Output Shape              Param #   \n",
      "=================================================================\n",
      "conv2d (Conv2D)              (None, 48, 48, 16)        160       \n",
      "_________________________________________________________________\n",
      "max_pooling2d (MaxPooling2D) (None, 24, 24, 16)        0         \n",
      "_________________________________________________________________\n",
      "conv2d_1 (Conv2D)            (None, 22, 22, 32)        4640      \n",
      "_________________________________________________________________\n",
      "max_pooling2d_1 (MaxPooling2 (None, 11, 11, 32)        0         \n",
      "_________________________________________________________________\n",
      "flatten (Flatten)            (None, 3872)              0         \n",
      "_________________________________________________________________\n",
      "dense (Dense)                (None, 1024)              3965952   \n",
      "_________________________________________________________________\n",
      "dropout (Dropout)            (None, 1024)              0         \n",
      "_________________________________________________________________\n",
      "dense_1 (Dense)              (None, 1024)              1049600   \n",
      "_________________________________________________________________\n",
      "dropout_1 (Dropout)          (None, 1024)              0         \n",
      "_________________________________________________________________\n",
      "dense_2 (Dense)              (None, 7)                 7175      \n",
      "=================================================================\n",
      "Total params: 5,027,527\n",
      "Trainable params: 5,027,527\n",
      "Non-trainable params: 0\n",
      "_________________________________________________________________\n"
     ]
    },
    {
     "name": "stderr",
     "output_type": "stream",
     "text": [
      "2021-07-26 22:41:40.083868: I tensorflow/core/platform/cpu_feature_guard.cc:142] This TensorFlow binary is optimized with oneAPI Deep Neural Network Library (oneDNN) to use the following CPU instructions in performance-critical operations:  AVX2 FMA\n",
      "To enable them in other operations, rebuild TensorFlow with the appropriate compiler flags.\n"
     ]
    }
   ],
   "source": [
    "model = models.Sequential(\n",
    "    [\n",
    "        layers.Conv2D(16, (3, 3), input_shape=(50, 50, 1), activation=tf.nn.relu),\n",
    "        layers.MaxPool2D(),\n",
    "        layers.Conv2D(32, (3, 3), activation=tf.nn.relu),\n",
    "        layers.MaxPool2D(),\n",
    "        layers.Flatten(),\n",
    "        layers.Dense(1024, activation=tf.nn.relu),\n",
    "        layers.Dropout(0.1),\n",
    "        layers.Dense(1024, activation=tf.nn.relu),\n",
    "        layers.Dropout(0.3),\n",
    "        layers.Dense(7, activation=tf.nn.softmax),\n",
    "    ]\n",
    ")\n",
    "\n",
    "model.summary()\n",
    "model.compile(\n",
    "    optimizer=optimizers.RMSprop(),\n",
    "    loss=\"sparse_categorical_crossentropy\",\n",
    "    metrics=[\"acc\"],\n",
    ")"
   ]
  },
  {
   "cell_type": "code",
   "execution_count": 4,
   "id": "197399f2",
   "metadata": {
    "slideshow": {
     "slide_type": "slide"
    }
   },
   "outputs": [
    {
     "name": "stderr",
     "output_type": "stream",
     "text": [
      "2021-07-26 22:41:49.878547: I tensorflow/compiler/mlir/mlir_graph_optimization_pass.cc:176] None of the MLIR Optimization Passes are enabled (registered 2)\n"
     ]
    },
    {
     "name": "stdout",
     "output_type": "stream",
     "text": [
      "Epoch 1/5\n",
      "662/662 [==============================] - 47s 71ms/step - loss: 0.2038 - acc: 0.9275\n",
      "Epoch 2/5\n",
      "662/662 [==============================] - 45s 68ms/step - loss: 0.0330 - acc: 0.9901\n",
      "Epoch 3/5\n",
      "662/662 [==============================] - 45s 68ms/step - loss: 0.0149 - acc: 0.9953\n",
      "Epoch 4/5\n",
      "662/662 [==============================] - 45s 68ms/step - loss: 0.0135 - acc: 0.9961\n",
      "Epoch 5/5\n",
      "662/662 [==============================] - 45s 69ms/step - loss: 0.0090 - acc: 0.9983\n"
     ]
    }
   ],
   "source": [
    "train_images = glob.glob(\"data/fingers-binary-thresh/train/*/*.jpg\")\n",
    "Y_train = []  # label numbers of fingers\n",
    "for filename in train_images:\n",
    "    classification_by_finger_count = int(filename[-6])\n",
    "    Y_train.append(classification_by_finger_count)\n",
    "\n",
    "X_train = []\n",
    "for filename in train_images:\n",
    "    img = cv2.imread(filename, 0)\n",
    "\n",
    "    img = cv2.resize(img, (50, 50))\n",
    "    img = img / 255.0\n",
    "\n",
    "    X_train.append(img.reshape(50, 50, 1))\n",
    "\n",
    "\n",
    "X_train = np.array(X_train).reshape(len(X_train), 50, 50, 1)\n",
    "Y_train = np.array(Y_train).reshape(len(Y_train), 1)\n",
    "\n",
    "history = model.fit(X_train, Y_train, epochs=5)"
   ]
  },
  {
   "cell_type": "code",
   "execution_count": 5,
   "id": "ce5dcc2f",
   "metadata": {
    "slideshow": {
     "slide_type": "subslide"
    }
   },
   "outputs": [
    {
     "data": {
      "image/png": "[encoded data removed]",
      "text/plain": [
       "<Figure size 432x288 with 1 Axes>"
      ]
     },
     "metadata": {
      "needs_background": "light"
     },
     "output_type": "display_data"
    }
   ],
   "source": [
    "plt.plot(history.history[\"loss\"], label=\"loss\")\n",
    "plt.legend()\n",
    "plt.title(\"Loss\")\n",
    "plt.savefig(\"docs/output/loss.png\")\n",
    "plt.show()"
   ]
  },
  {
   "cell_type": "code",
   "execution_count": 6,
   "id": "e1f40553",
   "metadata": {
    "slideshow": {
     "slide_type": "subslide"
    }
   },
   "outputs": [
    {
     "data": {
      "image/png": "[encoded data removed]",
      "text/plain": [
       "<Figure size 432x288 with 1 Axes>"
      ]
     },
     "metadata": {
      "needs_background": "light"
     },
     "output_type": "display_data"
    }
   ],
   "source": [
    "plt.clf()\n",
    "\n",
    "plt.plot(history.history[\"acc\"], label=\"acc\")\n",
    "plt.legend()\n",
    "plt.title(\"Accuracy\")\n",
    "plt.savefig(\"docs/output/accuracy.png\")\n",
    "plt.show()"
   ]
  },
  {
   "cell_type": "code",
   "execution_count": 7,
   "id": "10886b6f",
   "metadata": {
    "slideshow": {
     "slide_type": "slide"
    }
   },
   "outputs": [],
   "source": [
    "test_images = glob.glob(\"data/fingers-binary-thresh/test/*/*.jpg\")\n",
    "y_test = []\n",
    "for filename in test_images:\n",
    "    classification_by_finger_count = int(filename[-6])\n",
    "    y_test.append(classification_by_finger_count)\n",
    "\n",
    "        \n",
    "x_test = []\n",
    "for filename in test_images:\n",
    "    img = cv2.imread(filename, 0)\n",
    "    \n",
    "    img = cv2.resize(img, (50, 50))\n",
    "    img = img / 255.0\n",
    "    x_test.append(img.reshape(50, 50, 1))\n",
    "\n",
    "x_test = np.array(x_test).reshape(len(x_test), 50, 50, 1)\n",
    "y_test = np.array(y_test).reshape(len(y_test), 1)"
   ]
  },
  {
   "cell_type": "code",
   "execution_count": 8,
   "id": "437fafdf",
   "metadata": {
    "slideshow": {
     "slide_type": "subslide"
    }
   },
   "outputs": [
    {
     "name": "stdout",
     "output_type": "stream",
     "text": [
      "132/132 [==============================] - 1s 9ms/step - loss: 1.1885 - acc: 0.8902\n"
     ]
    },
    {
     "data": {
      "text/plain": [
       "[1.1885075569152832, 0.8902381062507629]"
      ]
     },
     "execution_count": 8,
     "metadata": {},
     "output_type": "execute_result"
    }
   ],
   "source": [
    "model.evaluate(x_test, y_test)"
   ]
  },
  {
   "cell_type": "code",
   "execution_count": 9,
   "id": "13452e96",
   "metadata": {
    "slideshow": {
     "slide_type": "subslide"
    }
   },
   "outputs": [
    {
     "name": "stdout",
     "output_type": "stream",
     "text": [
      "Demo prediction: 3\n"
     ]
    }
   ],
   "source": [
    "img = cv2.imread(\n",
    "    \"data/fingers-binary-thresh/test/3/1e64ae02-6304-448c-a9a5-7602b8463ca6_3R.jpg\",\n",
    "    cv2.IMREAD_GRAYSCALE,\n",
    ")\n",
    "img = cv2.resize(img, (50, 50))\n",
    "img = img / 255.0\n",
    "\n",
    "op = np.argmax(model.predict(img.reshape(1, 50, 50, 1)))\n",
    "print(f\"Demo prediction: {str(op)}\")"
   ]
  },
  {
   "cell_type": "code",
   "execution_count": 10,
   "id": "7dc31bb5",
   "metadata": {
    "slideshow": {
     "slide_type": "skip"
    }
   },
   "outputs": [],
   "source": [
    "model.save(\"model_fingers-binary-thresh_counting.h5\")"
   ]
  },
  {
   "cell_type": "markdown",
   "id": "303fe80b",
   "metadata": {
    "slideshow": {
     "slide_type": "slide"
    }
   },
   "source": [
    "# Predict live"
   ]
  },
  {
   "cell_type": "markdown",
   "id": "ae67e5bc",
   "metadata": {
    "slideshow": {
     "slide_type": "subslide"
    }
   },
   "source": [
    "## Define Commands (websites to open)"
   ]
  },
  {
   "cell_type": "code",
   "execution_count": null,
   "id": "af87e0ef",
   "metadata": {
    "slideshow": {
     "slide_type": "subslide"
    }
   },
   "outputs": [],
   "source": [
    "def command(command_number, last):\n",
    "    if command_number == 6:\n",
    "        return last\n",
    "    if command_number == 5:\n",
    "        new_website = 'https://www.beuth-hochschule.de/3049'\n",
    "    elif command_number == 4:\n",
    "        new_website = 'https://www.beuth-hochschule.de/lehrende'\n",
    "    elif command_number == 3:\n",
    "        new_website = 'https://www.beuth-hochschule.de/mitarbeitende'\n",
    "    elif command_number == 2:\n",
    "        new_website = 'https://www.beuth-hochschule.de/studieninteressierte'\n",
    "    elif command_number == 1:\n",
    "        new_website = 'https://www.beuth-hochschule.de/studierende'\n",
    "    elif command_number == 0:\n",
    "        new_website = 'https://www.beuth-hochschule.de/3050'\n",
    "\n",
    "    if last != new_website:\n",
    "        webbrowser.open(new_website, new=0)\n",
    "        last = new_website\n",
    "\n",
    "    return last"
   ]
  },
  {
   "cell_type": "markdown",
   "id": "d45a56f8",
   "metadata": {
    "slideshow": {
     "slide_type": "slide"
    }
   },
   "source": [
    "## Load Model from file"
   ]
  },
  {
   "cell_type": "code",
   "execution_count": null,
   "id": "f349f312",
   "metadata": {
    "slideshow": {
     "slide_type": "subslide"
    }
   },
   "outputs": [],
   "source": [
    "m = tf.keras.models.load_model(\"model_fingers-binary-thresh_counting.h5\")"
   ]
  },
  {
   "cell_type": "markdown",
   "id": "6f9f036e",
   "metadata": {
    "slideshow": {
     "slide_type": "slide"
    }
   },
   "source": [
    "The implementation of the ML approach worked better with the live camera in the end. The data set from Kaggle provided grayscale images. With the used model, the provided test images could be predicted reliably. \n",
    "\n",
    "However, the live images were hardly predicted correctly. The solution to the problem was inspired by another [dataset](https://www.kaggle.com/roshea6/finger-digits-05). Here the background was black, and the hand in the image was white.\n",
    "\n",
    "With cv2.threshold() I applied this effect to the training data, as well as the live image. However, the training data was not controlled after that. So errors are possible.\n",
    "\n",
    "```python\n",
    " _, img = cv2.threshold(img, 0, 255, cv2.THRESH_BINARY + cv2.THRESH_OTSU)\n",
    "```"
   ]
  },
  {
   "cell_type": "markdown",
   "id": "9ca1043e",
   "metadata": {
    "slideshow": {
     "slide_type": "slide"
    }
   },
   "source": [
    "## Run live view"
   ]
  },
  {
   "cell_type": "code",
   "execution_count": null,
   "id": "21224527",
   "metadata": {
    "slideshow": {
     "slide_type": "subslide"
    }
   },
   "outputs": [],
   "source": [
    "# top, bottom, left (flipped), right (flipped)\n",
    "REGION_OF_INTEREST_COORDINATES = (10, 600, 600, 10)\n",
    "\n",
    "# CAPTURE = cv2.VideoCapture(3)\n",
    "CAPTURE = cv2.VideoCapture(0)\n",
    "\n",
    "current_guess = 0\n",
    "last = \"\"\n",
    "\n",
    "frame_index = 0\n",
    "while True:\n",
    "    _, frame = CAPTURE.read()\n",
    "    frame = cv2.flip(frame, 1)\n",
    "\n",
    "    region_of_interest = frame[\n",
    "        REGION_OF_INTEREST_COORDINATES[0] : REGION_OF_INTEREST_COORDINATES[1],\n",
    "        REGION_OF_INTEREST_COORDINATES[3] : REGION_OF_INTEREST_COORDINATES[2],\n",
    "    ]\n",
    "    region_of_interest = cv2.cvtColor(region_of_interest, cv2.COLOR_BGR2GRAY)\n",
    "    region_of_interest = cv2.GaussianBlur(region_of_interest, (7, 7), 0)\n",
    "\n",
    "    # black background, white hand\n",
    "    _, region_of_interest = cv2.threshold(\n",
    "        region_of_interest, 0, 255, cv2.THRESH_BINARY_INV + cv2.THRESH_OTSU\n",
    "    )\n",
    "\n",
    "    cv2.imshow(\"FINGER DETECTION\", region_of_interest)\n",
    "\n",
    "    hand = cv2.resize(region_of_interest, (50, 50))\n",
    "\n",
    "    hand = hand / 255.0\n",
    "\n",
    "    white_pixel_count = np.sum(hand != 0)\n",
    "    black_pixel_count = np.sum(hand == 0)\n",
    "\n",
    "    if black_pixel_count > 170:\n",
    "        op = np.argmax(m.predict(hand.reshape(1, 50, 50, 1)))\n",
    "        print(\n",
    "            f\"Fingers: {str(op)}\\n\\t0: {black_pixel_count}\\n\\t255: {white_pixel_count}\\n\\tframe_index: {frame_index}\"\n",
    "        )\n",
    "\n",
    "        if op == current_guess:\n",
    "            frame_index += 1\n",
    "        else:\n",
    "            frame_index = 0\n",
    "\n",
    "        if frame_index == 10:\n",
    "            print(\"COMMAND\")\n",
    "            last = command(op, last)\n",
    "\n",
    "        current_guess = op\n",
    "\n",
    "    # Press q to exit the application\n",
    "    ch = cv2.waitKey(1) & 0xFF\n",
    "    if ch == ord(\"q\"):\n",
    "        break\n",
    "    elif ch == ord(\"s\"):\n",
    "        cv2.imwrite(\"docs/output/live.png\", region_of_interest)\n",
    "\n",
    "\n",
    "CAPTURE.release()\n",
    "cv2.destroyAllWindows()"
   ]
  },
  {
   "cell_type": "markdown",
   "id": "d7286da2",
   "metadata": {
    "slideshow": {
     "slide_type": "slide"
    }
   },
   "source": [
    "![Demo Gif](docs/demo.gif)"
   ]
  }
 ],
 "metadata": {
  "celltoolbar": "Slideshow",
  "kernelspec": {
   "display_name": "cv_env",
   "language": "python",
   "name": "cv_env"
  },
  "language_info": {
   "codemirror_mode": {
    "name": "ipython",
    "version": 3
   },
   "file_extension": ".py",
   "mimetype": "text/x-python",
   "name": "python",
   "nbconvert_exporter": "python",
   "pygments_lexer": "ipython3",
   "version": "3.9.5"
  }
 },
 "nbformat": 4,
 "nbformat_minor": 5
}
